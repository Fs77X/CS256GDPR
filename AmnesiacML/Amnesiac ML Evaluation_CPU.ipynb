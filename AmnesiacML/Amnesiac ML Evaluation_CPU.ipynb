{
 "cells": [
  {
   "cell_type": "markdown",
   "metadata": {
    "colab_type": "text",
    "id": "bJ33E-3YrVD-"
   },
   "source": [
    "# Imports and Setup"
   ]
  },
  {
   "cell_type": "code",
   "execution_count": 1,
   "metadata": {
    "colab": {},
    "colab_type": "code",
    "executionInfo": {
     "elapsed": 4478,
     "status": "ok",
     "timestamp": 1597325221727,
     "user": {
      "displayName": "Laura Graves",
      "photoUrl": "https://lh3.googleusercontent.com/a-/AOh14GiKkfAu7BQzHB05KzNcpkWJTPiliHjKSyQr1GwxRA=s64",
      "userId": "02198458421856045349"
     },
     "user_tz": 240
    },
    "id": "KHwBjWkKqs0r"
   },
   "outputs": [],
   "source": [
    "import torch\n",
    "import torchvision\n",
    "import numpy as np\n",
    "import matplotlib.pyplot as plt\n",
    "from torchvision import datasets, transforms, models\n",
    "from torch import nn, optim\n",
    "from torch.nn import functional as F\n",
    "from torch.autograd import Variable\n",
    "from scipy import ndimage\n",
    "import pickle\n",
    "import copy\n",
    "import random\n",
    "import time\n",
    "\n",
    "torch.set_printoptions(precision=3)\n",
    "cuda = True if torch.cuda.is_available() else False\n",
    "datasetCifar = True\n",
    "amensiac = True\n",
    "#[0, 1, len(dataLoad) * 0.1, len(dataLoad) * 0.2, len(dataLoad) * 0.3, len(dataLoad) * 0.4, len(dataLoad) * (0.5), len(dataLoad) * (0.6), len(dataLoad) * (0.7), len(dataLoad) * (0.8), len(dataLoad) * (0.9)]\n",
    "idx = 0"
   ]
  },
  {
   "cell_type": "markdown",
   "metadata": {
    "colab_type": "text",
    "id": "0Fg9SwPurYwu"
   },
   "source": [
    "# Data Entry and Processing"
   ]
  },
  {
   "cell_type": "code",
   "execution_count": 2,
   "metadata": {
    "colab": {},
    "colab_type": "code",
    "executionInfo": {
     "elapsed": 313,
     "status": "ok",
     "timestamp": 1597325498446,
     "user": {
      "displayName": "Laura Graves",
      "photoUrl": "https://lh3.googleusercontent.com/a-/AOh14GiKkfAu7BQzHB05KzNcpkWJTPiliHjKSyQr1GwxRA=s64",
      "userId": "02198458421856045349"
     },
     "user_tz": 240
    },
    "id": "OxwbMjoErc73"
   },
   "outputs": [],
   "source": [
    "# Transform image to tensor and normalize features from [0,255] to [0,1]\n",
    "transform = transforms.Compose([transforms.ToTensor(), \n",
    "                                transforms.Normalize((0.5,),(0.5,),(0.5)),\n",
    "                                ])"
   ]
  },
  {
   "cell_type": "code",
   "execution_count": 3,
   "metadata": {
    "colab": {
     "base_uri": "https://localhost:8080/",
     "height": 443,
     "referenced_widgets": [
      "46066bea204a4bbe830528b5de0c8372",
      "b05a86270f424627bf697b84cb880d3b",
      "ee278e96efb140cd8720739850c7567f",
      "71cb68dc80304efda622d5b0292667fb",
      "3b9265b3099846aabd75858c3bb5f5df",
      "c94ce7e9c3bc4bc7b25c4ce3861987df",
      "fd7f85df549c48b0b243f60fd4cb5b0f",
      "c538440ed4804e68beebf63eab85c61b",
      "9967f6c34acb4814b361004d2b75a075",
      "04fa014b4b174774b2051e6e9491fe09",
      "5a222c004e144a9a89806b32517d1abe",
      "c4c370e2d0a04fa082e7747a93294ba8",
      "be4bf227a70547f8a6718540b82c65a8",
      "a271a8b73de64d328aae4b7f5be56de6",
      "3d9642bfafc541a88affbf65e89700fd",
      "b20301e5279a4c9a8ffb693c16ade0c0",
      "c4391ac0090443e4824d2d147ae94448",
      "987ffacff90040d5b07a2f462c42ab5f",
      "08dddba55de24a49bf9c84f2cedbba00",
      "090474d95f1d48d3aecc44f785c57ca2",
      "4b03eb022f1d445abdc9cc4379238478",
      "f4b73c98de9349a09b2275cf2f1ad005",
      "72ee481e0e90406baf0bf2722f026b8a",
      "79522c5c11fd455895f6def40115c1b1",
      "b73c5dbad7e447e182061d48380fd3bf",
      "35c84a4ed1ba4870b1336e006c33e767",
      "add6cb57c0f6409ca83c37cc00b50083",
      "ba32e53d6f5d44d2b7721f14a7737e9e",
      "06a73fae4ed0415b85d31ae2fd7ef4b6",
      "790abeec3d4241c1b4bc1e69086308dc",
      "5dca13cc37aa42769c223bb2198592dc",
      "156b1c5c87534d6a97220dc9177a59df"
     ]
    },
    "colab_type": "code",
    "executionInfo": {
     "elapsed": 1878,
     "status": "ok",
     "timestamp": 1597325500586,
     "user": {
      "displayName": "Laura Graves",
      "photoUrl": "https://lh3.googleusercontent.com/a-/AOh14GiKkfAu7BQzHB05KzNcpkWJTPiliHjKSyQr1GwxRA=s64",
      "userId": "02198458421856045349"
     },
     "user_tz": 240
    },
    "id": "MXC2v1cDsR6o",
    "outputId": "be58307c-5a7c-472a-f1d0-d805364443af"
   },
   "outputs": [
    {
     "name": "stdout",
     "output_type": "stream",
     "text": [
      "Files already downloaded and verified\n",
      "Files already downloaded and verified\n"
     ]
    }
   ],
   "source": [
    "# Using CIFAR100\n",
    "traindata = datasets.CIFAR100('./data', download=True, train=True, transform=transform)\n",
    "testdata = datasets.CIFAR100('./data', download=True, train=False, transform=transform)"
   ]
  },
  {
   "cell_type": "code",
   "execution_count": 4,
   "metadata": {
    "colab": {},
    "colab_type": "code",
    "executionInfo": {
     "elapsed": 513,
     "status": "ok",
     "timestamp": 1597325501243,
     "user": {
      "displayName": "Laura Graves",
      "photoUrl": "https://lh3.googleusercontent.com/a-/AOh14GiKkfAu7BQzHB05KzNcpkWJTPiliHjKSyQr1GwxRA=s64",
      "userId": "02198458421856045349"
     },
     "user_tz": 240
    },
    "id": "J1HdLLfPvwhw"
   },
   "outputs": [],
   "source": [
    "# Loaders that give 64 example batches\n",
    "cifar_train_loader = torch.utils.data.DataLoader(traindata, batch_size=50, shuffle=True)\n",
    "cifar_test_loader = torch.utils.data.DataLoader(testdata, batch_size=50, shuffle=True)"
   ]
  },
  {
   "cell_type": "code",
   "execution_count": 5,
   "metadata": {},
   "outputs": [],
   "source": [
    "# Transform image to tensor and normalize features from [0,255] to [0,1]\n",
    "transform = transforms.Compose([transforms.ToTensor(), \n",
    "                                transforms.Normalize((0.5,),(0.5,)),\n",
    "                                ])"
   ]
  },
  {
   "cell_type": "code",
   "execution_count": 6,
   "metadata": {},
   "outputs": [],
   "source": [
    "# Using MNIST\n",
    "traindata = datasets.MNIST('./data', download=True, train=True, transform=transform)\n",
    "testdata = datasets.MNIST('./data', download=True, train=False, transform=transform)"
   ]
  },
  {
   "cell_type": "code",
   "execution_count": 7,
   "metadata": {},
   "outputs": [],
   "source": [
    "mnist_train_loader = torch.utils.data.DataLoader(traindata, batch_size=60, shuffle=True)\n",
    "mnist_test_loader = torch.utils.data.DataLoader(testdata, batch_size=60, shuffle=True)"
   ]
  },
  {
   "cell_type": "markdown",
   "metadata": {
    "colab_type": "text",
    "id": "5GHiRlkzwKnB"
   },
   "source": [
    "# Model"
   ]
  },
  {
   "cell_type": "code",
   "execution_count": 8,
   "metadata": {
    "colab": {},
    "colab_type": "code",
    "executionInfo": {
     "elapsed": 9668,
     "status": "ok",
     "timestamp": 1597325516552,
     "user": {
      "displayName": "Laura Graves",
      "photoUrl": "https://lh3.googleusercontent.com/a-/AOh14GiKkfAu7BQzHB05KzNcpkWJTPiliHjKSyQr1GwxRA=s64",
      "userId": "02198458421856045349"
     },
     "user_tz": 240
    },
    "id": "h-YvXNaj2Olp"
   },
   "outputs": [],
   "source": [
    "# Hyperparameters\n",
    "log_interval = 10\n",
    "num_classes = 100\n",
    "torch.backends.cudnn.enabled = True\n",
    "criterion = F.nll_loss"
   ]
  },
  {
   "cell_type": "code",
   "execution_count": 9,
   "metadata": {
    "colab": {},
    "colab_type": "code",
    "executionInfo": {
     "elapsed": 8409,
     "status": "ok",
     "timestamp": 1597325516553,
     "user": {
      "displayName": "Laura Graves",
      "photoUrl": "https://lh3.googleusercontent.com/a-/AOh14GiKkfAu7BQzHB05KzNcpkWJTPiliHjKSyQr1GwxRA=s64",
      "userId": "02198458421856045349"
     },
     "user_tz": 240
    },
    "id": "7r7pQAbYyFl7"
   },
   "outputs": [],
   "source": [
    "# Training method that saves batch updates\n",
    "def train(model, epoch, loader, returnable=False, batchStop=0):\n",
    "  model.train()\n",
    "  deltas = []\n",
    "  if amensiac:\n",
    "    for _ in range(50):\n",
    "        delta = {}\n",
    "        for param_tensor in model.state_dict():\n",
    "          if \"weight\" in param_tensor or \"bias\" in param_tensor:\n",
    "              delta[param_tensor] = 0\n",
    "        deltas.append(delta)\n",
    "  before = {}\n",
    "  for param_tensor in model.state_dict():\n",
    "      if \"weight\" in param_tensor or \"bias\" in param_tensor:\n",
    "          before[param_tensor] = model.state_dict()[param_tensor].clone()\n",
    "  for batch_idx, (data, target) in enumerate(loader):\n",
    "    if batch_idx <= len((loader)) - 1 - batchStop:\n",
    "      optimizer.zero_grad()\n",
    "      output = model(data)\n",
    "      loss = criterion(output, target)\n",
    "      loss.backward()\n",
    "      optimizer.step()\n",
    "      if batch_idx % 10 == 0 and batch_idx < 500 and amensiac:\n",
    "        after = {}\n",
    "        for param_tensor in model.state_dict():\n",
    "          if \"weight\" in param_tensor or \"bias\" in param_tensor:\n",
    "            after[param_tensor] = model.state_dict()[param_tensor].clone()\n",
    "        for key in before:\n",
    "          deltas[batch_idx // 10][key] = after[key] - before[key]\n",
    "        for param_tensor in model.state_dict():\n",
    "          if \"weight\" in param_tensor or \"bias\" in param_tensor:\n",
    "            before[param_tensor] = model.state_dict()[param_tensor].clone()\n",
    "      if batch_idx % log_interval == 0:\n",
    "        print(\"\\rEpoch: {} [{:6d}]\\tLoss: {:.6f}\".format(\n",
    "            epoch, batch_idx*len(data),  loss.item()\n",
    "        ), end=\"\")\n",
    "  return deltas"
   ]
  },
  {
   "cell_type": "code",
   "execution_count": 10,
   "metadata": {
    "colab": {},
    "colab_type": "code",
    "executionInfo": {
     "elapsed": 6641,
     "status": "ok",
     "timestamp": 1597325516554,
     "user": {
      "displayName": "Laura Graves",
      "photoUrl": "https://lh3.googleusercontent.com/a-/AOh14GiKkfAu7BQzHB05KzNcpkWJTPiliHjKSyQr1GwxRA=s64",
      "userId": "02198458421856045349"
     },
     "user_tz": 240
    },
    "id": "Y10g3tLd0zTs"
   },
   "outputs": [],
   "source": [
    "# Testing method\n",
    "def test(model, loader, dname=\"Test set\", printable=True):\n",
    "  model.eval()\n",
    "  test_loss = 0\n",
    "  total = 0\n",
    "  correct = 0\n",
    "  with torch.no_grad():\n",
    "    for data, target in loader:\n",
    "      output = model(data)\n",
    "      total += target.size()[0]\n",
    "      test_loss += criterion(output, target).item()\n",
    "      _, pred = torch.topk(output, 1, dim=1, largest=True, sorted=True)\n",
    "      for i, t in enumerate(target):\n",
    "        if t in pred[i]:\n",
    "            correct += 1\n",
    "  test_loss /= len(loader.dataset)\n",
    "  if printable:\n",
    "    print('{}: Mean loss: {:.4f}, Accuracy: {}/{} ({:.0f}%)'.format(\n",
    "        dname, test_loss, correct, total, \n",
    "        100. * correct / total\n",
    "        ))\n",
    "  return 1. * correct / total"
   ]
  },
  {
   "cell_type": "markdown",
   "metadata": {
    "colab_type": "text",
    "id": "GCwJjVyt_Zxz"
   },
   "source": [
    "# Original Training"
   ]
  },
  {
   "cell_type": "code",
   "execution_count": 11,
   "metadata": {
    "colab": {},
    "colab_type": "code",
    "executionInfo": {
     "elapsed": 322,
     "status": "ok",
     "timestamp": 1597325557476,
     "user": {
      "displayName": "Laura Graves",
      "photoUrl": "https://lh3.googleusercontent.com/a-/AOh14GiKkfAu7BQzHB05KzNcpkWJTPiliHjKSyQr1GwxRA=s64",
      "userId": "02198458421856045349"
     },
     "user_tz": 240
    },
    "id": "w8mU7BQnBVZN"
   },
   "outputs": [],
   "source": [
    "trainingepochs = 10\n",
    "num_classes = 100 if datasetCifar else 10\n",
    "dataLoad = cifar_train_loader if datasetCifar else mnist_train_loader\n",
    "dataTest = cifar_test_loader if datasetCifar else mnist_test_loader\n",
    "stop = [0, 1, len(dataLoad) * 0.1, len(dataLoad) * 0.2, len(dataLoad) * 0.3, len(dataLoad) * 0.4, len(dataLoad) * (0.5), len(dataLoad) * (0.6), len(dataLoad) * (0.7), len(dataLoad) * (0.8), len(dataLoad) * (0.9)]\n",
    "batchStop = stop[idx]"
   ]
  },
  {
   "cell_type": "code",
   "execution_count": 12,
   "metadata": {
    "colab": {},
    "colab_type": "code",
    "executionInfo": {
     "elapsed": 515,
     "status": "ok",
     "timestamp": 1597325559160,
     "user": {
      "displayName": "Laura Graves",
      "photoUrl": "https://lh3.googleusercontent.com/a-/AOh14GiKkfAu7BQzHB05KzNcpkWJTPiliHjKSyQr1GwxRA=s64",
      "userId": "02198458421856045349"
     },
     "user_tz": 240
    },
    "id": "Qsn4ZDQKY5yy"
   },
   "outputs": [],
   "source": [
    "# load resnet 18 and change to fit problem dimensionality\n",
    "resnet = models.resnet18()\n",
    "resnet.conv1 = nn.Conv2d(3, 64, kernel_size=(7,7), stride=(2,2), padding=(3,3), bias=False) if datasetCifar else nn.Conv2d(1, 64, kernel_size=(7,7), stride=(2,2), padding=(3,3), bias=False)\n",
    "resnet.fc = nn.Sequential(nn.Linear(512, num_classes), nn.LogSoftmax(dim=1))\n",
    "optimizer = optim.Adam(resnet.parameters())"
   ]
  },
  {
   "cell_type": "code",
   "execution_count": 13,
   "metadata": {
    "colab": {
     "base_uri": "https://localhost:8080/",
     "height": 451
    },
    "colab_type": "code",
    "executionInfo": {
     "elapsed": 3178778,
     "status": "ok",
     "timestamp": 1597328738936,
     "user": {
      "displayName": "Laura Graves",
      "photoUrl": "https://lh3.googleusercontent.com/a-/AOh14GiKkfAu7BQzHB05KzNcpkWJTPiliHjKSyQr1GwxRA=s64",
      "userId": "02198458421856045349"
     },
     "user_tz": 240
    },
    "id": "hqJ4gRHp1tZc",
    "outputId": "e9607831-5704-4a84-9416-5c7fecbdd726"
   },
   "outputs": [
    {
     "name": "stdout",
     "output_type": "stream",
     "text": [
      "Epoch: 1 [ 49500]\tLoss: 3.065165All data: Mean loss: 0.0600, Accuracy: 2605/10000 (26%)\n",
      "Time taken: 1359.777856088\n",
      "Epoch: 2 [ 49500]\tLoss: 2.451857All data: Mean loss: 0.0504, Accuracy: 3518/10000 (35%)\n",
      "Time taken: 1345.723209185\n",
      "Epoch: 3 [ 49500]\tLoss: 2.196525All data: Mean loss: 0.0479, Accuracy: 3735/10000 (37%)\n",
      "Time taken: 1716.7423827029997\n",
      "Epoch: 4 [ 49500]\tLoss: 1.907825All data: Mean loss: 0.0456, Accuracy: 4074/10000 (41%)\n",
      "Time taken: 1825.4690560110002\n",
      "Epoch: 5 [ 49500]\tLoss: 1.131327All data: Mean loss: 0.0434, Accuracy: 4417/10000 (44%)\n",
      "Time taken: 1817.608159841\n",
      "Epoch: 6 [ 49500]\tLoss: 1.305457All data: Mean loss: 0.0435, Accuracy: 4478/10000 (45%)\n",
      "Time taken: 1830.7144409049997\n",
      "Epoch: 7 [ 49500]\tLoss: 1.184521All data: Mean loss: 0.0434, Accuracy: 4571/10000 (46%)\n",
      "Time taken: 1670.3460952349997\n",
      "Epoch: 8 [ 49500]\tLoss: 1.585987All data: Mean loss: 0.0455, Accuracy: 4612/10000 (46%)\n",
      "Time taken: 1552.0582283940003\n",
      "Epoch: 9 [ 49500]\tLoss: 0.821411All data: Mean loss: 0.0488, Accuracy: 4541/10000 (45%)\n",
      "Time taken: 1561.4512557730013\n",
      "Epoch: 10 [ 49500]\tLoss: 0.587047All data: Mean loss: 0.0516, Accuracy: 4572/10000 (46%)\n",
      "Accuracy:  0.4572\n",
      "Time taken: 1542.541563634999\n",
      "Time taken for training: 16222.444184315\n"
     ]
    }
   ],
   "source": [
    "# Train new model for n epochs, saving parameter updates for\n",
    "# sensitive batches\n",
    "\n",
    "trainstart = time.process_time()\n",
    "deltas = []\n",
    "trainAcc = 0\n",
    "if amensiac:  \n",
    "  for _ in range(50):\n",
    "    delta = {}\n",
    "    for param_tensor in resnet.state_dict():\n",
    "      if \"weight\" in param_tensor or \"bias\" in param_tensor:\n",
    "          delta[param_tensor] = 0\n",
    "    deltas.append(delta)\n",
    "    \n",
    "for epoch in range(1, trainingepochs+1):\n",
    "  starttime = time.process_time()\n",
    "  # train(resnet, epoch, all_data_train_loader, returnable=False)\n",
    "  # batch = train(resnet, epoch, mnist_train_loader, returnable=True) \n",
    "  batch = train(resnet, epoch, dataLoad, returnable=True, batchStop=batchStop)\n",
    "  if amensiac:\n",
    "    for i in range(50):\n",
    "      for key in deltas[i]:\n",
    "          deltas[i][key] = batch[i][key] + deltas[i][key]\n",
    "  # test(resnet, mnist_test_loader, dname=\"All data\")\n",
    "  trainAcc = test(resnet, dataTest, dname=\"All data\")\n",
    "  if epoch == trainingepochs:\n",
    "    print(\"Accuracy: \", trainAcc)\n",
    "\n",
    "  print(f\"Time taken: {time.process_time() - starttime}\")\n",
    "endTimeTrain = time.process_time() - trainstart\n",
    "print(f\"Time taken for training: {endTimeTrain}\")\n",
    "accTime = {\"accuracy\": trainAcc, \"time\": endTimeTrain}\n"
   ]
  },
  {
   "cell_type": "code",
   "execution_count": 14,
   "metadata": {},
   "outputs": [],
   "source": [
    "if batchStop != 0:\n",
    "    accAndTime = F\"CIFARCPUBatchStop\" + str(batchStop) + \".pickle\" if datasetCifar else F\"MNISTCPUBatchStop\" + str(batchStop) + \".pickle\"\n",
    "    with open(accAndTime, 'wb') as handle:\n",
    "        pickle.dump(accTime, handle)"
   ]
  },
  {
   "cell_type": "code",
   "execution_count": 15,
   "metadata": {},
   "outputs": [],
   "source": [
    "if batchStop != 0:\n",
    "    with open(accAndTime, 'rb') as handle:\n",
    "        b = pickle.load(handle)\n",
    "    print(accAndTime)\n",
    "    print(b)"
   ]
  },
  {
   "cell_type": "code",
   "execution_count": 16,
   "metadata": {},
   "outputs": [],
   "source": [
    "deltaPickles = F\"CIFARCPUdeltaPickles.pickle\" if datasetCifar else F\"MnistCPUdeltapickles.pickle\"\n",
    "\n",
    "with open(deltaPickles, 'wb') as handle:\n",
    "    pickle.dump(deltas, handle)"
   ]
  },
  {
   "cell_type": "code",
   "execution_count": 17,
   "metadata": {},
   "outputs": [],
   "source": [
    "path = F\"./resnet/selective_mnist.pt\"\n",
    "torch.save({\n",
    "            'model_state_dict': resnet.state_dict(),\n",
    "            'optimizer_state_dict': optimizer.state_dict(),\n",
    "            }, path)"
   ]
  },
  {
   "cell_type": "code",
   "execution_count": 18,
   "metadata": {},
   "outputs": [
    {
     "data": {
      "text/plain": [
       "<All keys matched successfully>"
      ]
     },
     "execution_count": 18,
     "metadata": {},
     "output_type": "execute_result"
    }
   ],
   "source": [
    "path = F\"resnet/selective_CIFAR.pt\" if datasetCifar else F\"resnet/selective_mnist.pt\"\n",
    "checkpoint = torch.load(path)\n",
    "resnet.load_state_dict(checkpoint['model_state_dict'])"
   ]
  },
  {
   "cell_type": "code",
   "execution_count": 19,
   "metadata": {},
   "outputs": [
    {
     "name": "stdout",
     "output_type": "stream",
     "text": [
      "<class 'list'>\n",
      "50\n",
      "50\n",
      "2.092260834760964  GB\n"
     ]
    }
   ],
   "source": [
    "accuracy = [[],[],[],[],[],[],[],[],[],[]]\n",
    "recordTime = [[],[],[],[],[],[],[],[],[],[]]\n",
    "print(type(deltas))\n",
    "# print(deltas)\n",
    "# fileo = open(path, 'rb')\n",
    "# deltas = pickle.load(fileo)\n",
    "# fileo.close()\n",
    "b = []\n",
    "with open(deltaPickles, 'rb') as handle:\n",
    "    b = pickle.load(handle)\n",
    "print(len(b))\n",
    "print(len(deltas))\n",
    "import os\n",
    "print(os.path.getsize(deltaPickles)/1073741824, ' GB')\n",
    "# import sys\n",
    "# print(sys.getsizeof(deltas)/1073741824)\n"
   ]
  },
  {
   "cell_type": "code",
   "execution_count": 20,
   "metadata": {},
   "outputs": [
    {
     "name": "stdout",
     "output_type": "stream",
     "text": [
      "iteration 0,0All data: Mean loss: 0.0612, Accuracy: 4131/10000 (41%)\n",
      "Time taken for unlearning: 28.976975218000007\n",
      "iteration 0,1All data: Mean loss: 0.0720, Accuracy: 3459/10000 (35%)\n",
      "Time taken for unlearning: 29.29865210800017\n",
      "iteration 0,2All data: Mean loss: 0.0926, Accuracy: 2597/10000 (26%)\n",
      "Time taken for unlearning: 28.749031584000477\n",
      "iteration 0,3All data: Mean loss: 0.0997, Accuracy: 2366/10000 (24%)\n",
      "Time taken for unlearning: 29.054123707001054\n",
      "iteration 0,4All data: Mean loss: 0.0988, Accuracy: 2504/10000 (25%)\n",
      "Time taken for unlearning: 29.04716838099921\n",
      "iteration 0,5All data: Mean loss: 0.1126, Accuracy: 1988/10000 (20%)\n",
      "Time taken for unlearning: 29.535244231001343\n",
      "iteration 0,6All data: Mean loss: 0.1406, Accuracy: 1406/10000 (14%)\n",
      "Time taken for unlearning: 27.73660612599997\n",
      "iteration 0,7All data: Mean loss: 0.1491, Accuracy: 1314/10000 (13%)\n",
      "Time taken for unlearning: 29.15061930400043\n",
      "iteration 0,8All data: Mean loss: 0.1589, Accuracy: 1219/10000 (12%)\n",
      "Time taken for unlearning: 27.71568135099733\n",
      "iteration 0,9All data: Mean loss: 0.1777, Accuracy: 942/10000 (9%)\n",
      "Time taken for unlearning: 27.696878058999573\n",
      "iteration 0,10All data: Mean loss: 0.1794, Accuracy: 1017/10000 (10%)\n",
      "Time taken for unlearning: 29.201040317999286\n",
      "iteration 0,11All data: Mean loss: 0.1715, Accuracy: 958/10000 (10%)\n",
      "Time taken for unlearning: 27.494895020001422\n",
      "iteration 0,12All data: Mean loss: 0.2021, Accuracy: 787/10000 (8%)\n",
      "Time taken for unlearning: 28.79763525299859\n",
      "iteration 0,13All data: Mean loss: 0.2780, Accuracy: 491/10000 (5%)\n",
      "Time taken for unlearning: 28.819799802997295\n",
      "iteration 0,14All data: Mean loss: 0.3220, Accuracy: 384/10000 (4%)\n",
      "Time taken for unlearning: 28.49836202900042\n",
      "iteration 0,15All data: Mean loss: 0.3732, Accuracy: 331/10000 (3%)\n",
      "Time taken for unlearning: 27.943681576998642\n",
      "iteration 0,16All data: Mean loss: 0.5283, Accuracy: 193/10000 (2%)\n",
      "Time taken for unlearning: 28.393502940998587\n",
      "iteration 0,17All data: Mean loss: 0.5630, Accuracy: 190/10000 (2%)\n",
      "Time taken for unlearning: 28.129857987998548\n",
      "iteration 0,18All data: Mean loss: 0.5355, Accuracy: 187/10000 (2%)\n",
      "Time taken for unlearning: 29.663375370997528\n",
      "iteration 0,19All data: Mean loss: 0.5638, Accuracy: 155/10000 (2%)\n",
      "Time taken for unlearning: 29.11832324200077\n",
      "iteration 0,20All data: Mean loss: 0.6858, Accuracy: 138/10000 (1%)\n",
      "Time taken for unlearning: 28.32082129599803\n",
      "iteration 0,21All data: Mean loss: 0.8225, Accuracy: 125/10000 (1%)\n",
      "Time taken for unlearning: 28.265235038001265\n",
      "iteration 0,22All data: Mean loss: 0.7596, Accuracy: 124/10000 (1%)\n",
      "Time taken for unlearning: 29.48378090299957\n",
      "iteration 0,23All data: Mean loss: 0.6683, Accuracy: 135/10000 (1%)\n",
      "Time taken for unlearning: 28.850802190998365\n",
      "iteration 0,24All data: Mean loss: 0.7697, Accuracy: 188/10000 (2%)\n",
      "Time taken for unlearning: 29.400531224000588\n",
      "iteration 0,25All data: Mean loss: 0.9335, Accuracy: 151/10000 (2%)\n",
      "Time taken for unlearning: 27.75640896200275\n",
      "iteration 0,26All data: Mean loss: 0.9518, Accuracy: 146/10000 (1%)\n",
      "Time taken for unlearning: 29.277627798997855\n",
      "iteration 0,27All data: Mean loss: 1.0849, Accuracy: 148/10000 (1%)\n",
      "Time taken for unlearning: 26.191764044000593\n",
      "iteration 0,28All data: Mean loss: 1.3615, Accuracy: 118/10000 (1%)\n",
      "Time taken for unlearning: 29.126537883999845\n",
      "iteration 0,29All data: Mean loss: 1.5876, Accuracy: 134/10000 (1%)\n",
      "Time taken for unlearning: 28.99056122899856\n",
      "iteration 0,30All data: Mean loss: 1.4566, Accuracy: 123/10000 (1%)\n",
      "Time taken for unlearning: 29.194028593999974\n",
      "iteration 0,31All data: Mean loss: 1.4637, Accuracy: 153/10000 (2%)\n",
      "Time taken for unlearning: 29.15038671399816\n",
      "iteration 0,32All data: Mean loss: 1.6253, Accuracy: 114/10000 (1%)\n",
      "Time taken for unlearning: 28.89984779400038\n",
      "iteration 0,33All data: Mean loss: 1.9068, Accuracy: 102/10000 (1%)\n",
      "Time taken for unlearning: 28.14794729699861\n",
      "iteration 0,34All data: Mean loss: 1.8873, Accuracy: 105/10000 (1%)\n",
      "Time taken for unlearning: 27.46358552899983\n",
      "iteration 0,35All data: Mean loss: 2.2049, Accuracy: 102/10000 (1%)\n",
      "Time taken for unlearning: 28.302220966997993\n",
      "iteration 0,36All data: Mean loss: 1.9960, Accuracy: 113/10000 (1%)\n",
      "Time taken for unlearning: 29.168083912998554\n",
      "iteration 0,37All data: Mean loss: 2.4801, Accuracy: 103/10000 (1%)\n",
      "Time taken for unlearning: 29.02957001699906\n",
      "iteration 0,38All data: Mean loss: 2.6106, Accuracy: 107/10000 (1%)\n",
      "Time taken for unlearning: 28.50739729599809\n",
      "iteration 0,39All data: Mean loss: 2.4143, Accuracy: 145/10000 (1%)\n",
      "Time taken for unlearning: 27.628689411998494\n",
      "iteration 0,40All data: Mean loss: 2.9219, Accuracy: 108/10000 (1%)\n",
      "Time taken for unlearning: 28.735072734001733\n",
      "iteration 0,41All data: Mean loss: 3.2907, Accuracy: 101/10000 (1%)\n",
      "Time taken for unlearning: 28.174905062001926\n",
      "iteration 0,42All data: Mean loss: 3.7369, Accuracy: 105/10000 (1%)\n",
      "Time taken for unlearning: 29.28420331599773\n",
      "iteration 0,43All data: Mean loss: 3.3027, Accuracy: 120/10000 (1%)\n",
      "Time taken for unlearning: 28.382885561000876\n",
      "iteration 0,44All data: Mean loss: 3.4465, Accuracy: 141/10000 (1%)\n",
      "Time taken for unlearning: 28.58072956899923\n",
      "iteration 0,45All data: Mean loss: 3.7226, Accuracy: 111/10000 (1%)\n",
      "Time taken for unlearning: 29.026993504998245\n",
      "iteration 0,46All data: Mean loss: 4.1454, Accuracy: 101/10000 (1%)\n",
      "Time taken for unlearning: 28.35663805600052\n",
      "iteration 0,47All data: Mean loss: 3.3801, Accuracy: 100/10000 (1%)\n",
      "Time taken for unlearning: 29.335556756999722\n",
      "iteration 0,48All data: Mean loss: 3.3798, Accuracy: 106/10000 (1%)\n",
      "Time taken for unlearning: 28.61915654800032\n",
      "iteration 0,49All data: Mean loss: 4.5274, Accuracy: 100/10000 (1%)\n",
      "Time taken for unlearning: 28.260018782999396\n"
     ]
    }
   ],
   "source": [
    "# Begin amnesiac unlearning process, evaluating\n",
    "# model accuracy as batches are removed\n",
    "# 1 iteration = 1 batch\n",
    "for j in range(1):\n",
    "    random.shuffle(deltas)\n",
    "    resnet.load_state_dict(checkpoint['model_state_dict'])\n",
    "    for i in range(50):\n",
    "        unlearnItStart = time.process_time()\n",
    "        print(f\"\\riteration {j},{i}\", end=\"\")\n",
    "        const = 1\n",
    "        with torch.no_grad():\n",
    "            state = resnet.state_dict()\n",
    "            for param_tensor in state:\n",
    "                if \"weight\" in param_tensor or \"bias\" in param_tensor:\n",
    "                  state[param_tensor] = state[param_tensor] - const*deltas[i][param_tensor]\n",
    "        resnet.load_state_dict(state)\n",
    "        accuracy[j].append(test(resnet, dataTest, dname=\"All data\"))\n",
    "        end = time.process_time() - unlearnItStart\n",
    "        recordTime[j].append(end)\n",
    "        print(f\"Time taken for unlearning: {end}\")"
   ]
  },
  {
   "cell_type": "code",
   "execution_count": 21,
   "metadata": {},
   "outputs": [],
   "source": [
    "accuracyStore = F\"CPUselective_acc_CIFAR.pk\" if datasetCifar else F\"CPUselective_acc_mnist.pk\"\n",
    "f = open(accuracyStore, \"wb\")\n",
    "pickle.dump(accuracy, f)\n",
    "f.close()"
   ]
  },
  {
   "cell_type": "code",
   "execution_count": 22,
   "metadata": {},
   "outputs": [],
   "source": [
    "timeStore = F\"CPUselective_time_CIFAR.pk\" if datasetCifar else F\"CPUselective_time_mnist.pk\"\n",
    "f = open(timeStore, \"wb\")\n",
    "pickle.dump(recordTime, f)\n",
    "f.close()"
   ]
  },
  {
   "cell_type": "code",
   "execution_count": 23,
   "metadata": {},
   "outputs": [
    {
     "name": "stdout",
     "output_type": "stream",
     "text": [
      "[[0.4131, 0.3459, 0.2597, 0.2366, 0.2504, 0.1988, 0.1406, 0.1314, 0.1219, 0.0942, 0.1017, 0.0958, 0.0787, 0.0491, 0.0384, 0.0331, 0.0193, 0.019, 0.0187, 0.0155, 0.0138, 0.0125, 0.0124, 0.0135, 0.0188, 0.0151, 0.0146, 0.0148, 0.0118, 0.0134, 0.0123, 0.0153, 0.0114, 0.0102, 0.0105, 0.0102, 0.0113, 0.0103, 0.0107, 0.0145, 0.0108, 0.0101, 0.0105, 0.012, 0.0141, 0.0111, 0.0101, 0.01, 0.0106, 0.01], [], [], [], [], [], [], [], [], []]\n",
      "[[28.976975218000007, 29.29865210800017, 28.749031584000477, 29.054123707001054, 29.04716838099921, 29.535244231001343, 27.73660612599997, 29.15061930400043, 27.71568135099733, 27.696878058999573, 29.201040317999286, 27.494895020001422, 28.79763525299859, 28.819799802997295, 28.49836202900042, 27.943681576998642, 28.393502940998587, 28.129857987998548, 29.663375370997528, 29.11832324200077, 28.32082129599803, 28.265235038001265, 29.48378090299957, 28.850802190998365, 29.400531224000588, 27.75640896200275, 29.277627798997855, 26.191764044000593, 29.126537883999845, 28.99056122899856, 29.194028593999974, 29.15038671399816, 28.89984779400038, 28.14794729699861, 27.46358552899983, 28.302220966997993, 29.168083912998554, 29.02957001699906, 28.50739729599809, 27.628689411998494, 28.735072734001733, 28.174905062001926, 29.28420331599773, 28.382885561000876, 28.58072956899923, 29.026993504998245, 28.35663805600052, 29.335556756999722, 28.61915654800032, 28.260018782999396], [], [], [], [], [], [], [], [], []]\n"
     ]
    }
   ],
   "source": [
    "accuracyStore = F\"CPUselective_acc_CIFAR.pk\" if datasetCifar else F\"CPUselective_acc_mnist.pk\"\n",
    "timeStore = F\"CPUselective_time_CIFAR.pk\" if datasetCifar else F\"CPUselective_time_mnist.pk\"\n",
    "res = []\n",
    "with open(accuracyStore, 'rb') as handle:\n",
    "    res = pickle.load(handle)\n",
    "print(res)\n",
    "letime = []\n",
    "with open(timeStore, 'rb') as handle:\n",
    "    letime = pickle.load(handle)\n",
    "print(letime)"
   ]
  },
  {
   "cell_type": "code",
   "execution_count": null,
   "metadata": {},
   "outputs": [],
   "source": []
  }
 ],
 "metadata": {
  "accelerator": "GPU",
  "colab": {
   "collapsed_sections": [
    "KwC4bhnrgf9G"
   ],
   "machine_shape": "hm",
   "name": "Unlearning Model Inversion - resnet18.ipynb",
   "provenance": [
    {
     "file_id": "1aV7FG_EMmhJuinBhU4DduYVZQJD6XRai",
     "timestamp": 1597065873226
    },
    {
     "file_id": "1DAYnyM3fRyey917NpKUFLffABPi2O_b2",
     "timestamp": 1587398961607
    },
    {
     "file_id": "1KNf7zLGtO-RttM-G245CSk99wGsO_mpj",
     "timestamp": 1573223459394
    }
   ],
   "toc_visible": true
  },
  "instance_type": "ml.g4dn.xlarge",
  "kernelspec": {
   "display_name": "Python 3.9.12 ('tf')",
   "language": "python",
   "name": "python3"
  },
  "language_info": {
   "codemirror_mode": {
    "name": "ipython",
    "version": 3
   },
   "file_extension": ".py",
   "mimetype": "text/x-python",
   "name": "python",
   "nbconvert_exporter": "python",
   "pygments_lexer": "ipython3",
   "version": "3.9.12"
  },
  "pycharm": {
   "stem_cell": {
    "cell_type": "raw",
    "metadata": {
     "collapsed": false
    },
    "source": []
   }
  },
  "vscode": {
   "interpreter": {
    "hash": "af3fecf52f97a5fd03cb4f9a016e7a1e7a54825bfcf1a2475d5b6212222f2a1d"
   }
  },
  "widgets": {
   "application/vnd.jupyter.widget-state+json": {
    "04fa014b4b174774b2051e6e9491fe09": {
     "model_module": "@jupyter-widgets/base",
     "model_name": "LayoutModel",
     "state": {
      "_model_module": "@jupyter-widgets/base",
      "_model_module_version": "1.2.0",
      "_model_name": "LayoutModel",
      "_view_count": null,
      "_view_module": "@jupyter-widgets/base",
      "_view_module_version": "1.2.0",
      "_view_name": "LayoutView",
      "align_content": null,
      "align_items": null,
      "align_self": null,
      "border": null,
      "bottom": null,
      "display": null,
      "flex": null,
      "flex_flow": null,
      "grid_area": null,
      "grid_auto_columns": null,
      "grid_auto_flow": null,
      "grid_auto_rows": null,
      "grid_column": null,
      "grid_gap": null,
      "grid_row": null,
      "grid_template_areas": null,
      "grid_template_columns": null,
      "grid_template_rows": null,
      "height": null,
      "justify_content": null,
      "justify_items": null,
      "left": null,
      "margin": null,
      "max_height": null,
      "max_width": null,
      "min_height": null,
      "min_width": null,
      "object_fit": null,
      "object_position": null,
      "order": null,
      "overflow": null,
      "overflow_x": null,
      "overflow_y": null,
      "padding": null,
      "right": null,
      "top": null,
      "visibility": null,
      "width": null
     }
    },
    "06a73fae4ed0415b85d31ae2fd7ef4b6": {
     "model_module": "@jupyter-widgets/controls",
     "model_name": "ProgressStyleModel",
     "state": {
      "_model_module": "@jupyter-widgets/controls",
      "_model_module_version": "1.5.0",
      "_model_name": "ProgressStyleModel",
      "_view_count": null,
      "_view_module": "@jupyter-widgets/base",
      "_view_module_version": "1.2.0",
      "_view_name": "StyleView",
      "bar_color": null,
      "description_width": "initial"
     }
    },
    "08dddba55de24a49bf9c84f2cedbba00": {
     "model_module": "@jupyter-widgets/controls",
     "model_name": "FloatProgressModel",
     "state": {
      "_dom_classes": [],
      "_model_module": "@jupyter-widgets/controls",
      "_model_module_version": "1.5.0",
      "_model_name": "FloatProgressModel",
      "_view_count": null,
      "_view_module": "@jupyter-widgets/controls",
      "_view_module_version": "1.5.0",
      "_view_name": "ProgressView",
      "bar_style": "success",
      "description": "",
      "description_tooltip": null,
      "layout": "IPY_MODEL_f4b73c98de9349a09b2275cf2f1ad005",
      "max": 1,
      "min": 0,
      "orientation": "horizontal",
      "style": "IPY_MODEL_4b03eb022f1d445abdc9cc4379238478",
      "value": 1
     }
    },
    "090474d95f1d48d3aecc44f785c57ca2": {
     "model_module": "@jupyter-widgets/controls",
     "model_name": "HTMLModel",
     "state": {
      "_dom_classes": [],
      "_model_module": "@jupyter-widgets/controls",
      "_model_module_version": "1.5.0",
      "_model_name": "HTMLModel",
      "_view_count": null,
      "_view_module": "@jupyter-widgets/controls",
      "_view_module_version": "1.5.0",
      "_view_name": "HTMLView",
      "description": "",
      "description_tooltip": null,
      "layout": "IPY_MODEL_79522c5c11fd455895f6def40115c1b1",
      "placeholder": "​",
      "style": "IPY_MODEL_72ee481e0e90406baf0bf2722f026b8a",
      "value": " 1654784/? [00:00&lt;00:00, 3158962.54it/s]"
     }
    },
    "156b1c5c87534d6a97220dc9177a59df": {
     "model_module": "@jupyter-widgets/base",
     "model_name": "LayoutModel",
     "state": {
      "_model_module": "@jupyter-widgets/base",
      "_model_module_version": "1.2.0",
      "_model_name": "LayoutModel",
      "_view_count": null,
      "_view_module": "@jupyter-widgets/base",
      "_view_module_version": "1.2.0",
      "_view_name": "LayoutView",
      "align_content": null,
      "align_items": null,
      "align_self": null,
      "border": null,
      "bottom": null,
      "display": null,
      "flex": null,
      "flex_flow": null,
      "grid_area": null,
      "grid_auto_columns": null,
      "grid_auto_flow": null,
      "grid_auto_rows": null,
      "grid_column": null,
      "grid_gap": null,
      "grid_row": null,
      "grid_template_areas": null,
      "grid_template_columns": null,
      "grid_template_rows": null,
      "height": null,
      "justify_content": null,
      "justify_items": null,
      "left": null,
      "margin": null,
      "max_height": null,
      "max_width": null,
      "min_height": null,
      "min_width": null,
      "object_fit": null,
      "object_position": null,
      "order": null,
      "overflow": null,
      "overflow_x": null,
      "overflow_y": null,
      "padding": null,
      "right": null,
      "top": null,
      "visibility": null,
      "width": null
     }
    },
    "35c84a4ed1ba4870b1336e006c33e767": {
     "model_module": "@jupyter-widgets/base",
     "model_name": "LayoutModel",
     "state": {
      "_model_module": "@jupyter-widgets/base",
      "_model_module_version": "1.2.0",
      "_model_name": "LayoutModel",
      "_view_count": null,
      "_view_module": "@jupyter-widgets/base",
      "_view_module_version": "1.2.0",
      "_view_name": "LayoutView",
      "align_content": null,
      "align_items": null,
      "align_self": null,
      "border": null,
      "bottom": null,
      "display": null,
      "flex": null,
      "flex_flow": null,
      "grid_area": null,
      "grid_auto_columns": null,
      "grid_auto_flow": null,
      "grid_auto_rows": null,
      "grid_column": null,
      "grid_gap": null,
      "grid_row": null,
      "grid_template_areas": null,
      "grid_template_columns": null,
      "grid_template_rows": null,
      "height": null,
      "justify_content": null,
      "justify_items": null,
      "left": null,
      "margin": null,
      "max_height": null,
      "max_width": null,
      "min_height": null,
      "min_width": null,
      "object_fit": null,
      "object_position": null,
      "order": null,
      "overflow": null,
      "overflow_x": null,
      "overflow_y": null,
      "padding": null,
      "right": null,
      "top": null,
      "visibility": null,
      "width": null
     }
    },
    "3b9265b3099846aabd75858c3bb5f5df": {
     "model_module": "@jupyter-widgets/controls",
     "model_name": "ProgressStyleModel",
     "state": {
      "_model_module": "@jupyter-widgets/controls",
      "_model_module_version": "1.5.0",
      "_model_name": "ProgressStyleModel",
      "_view_count": null,
      "_view_module": "@jupyter-widgets/base",
      "_view_module_version": "1.2.0",
      "_view_name": "StyleView",
      "bar_color": null,
      "description_width": "initial"
     }
    },
    "3d9642bfafc541a88affbf65e89700fd": {
     "model_module": "@jupyter-widgets/controls",
     "model_name": "DescriptionStyleModel",
     "state": {
      "_model_module": "@jupyter-widgets/controls",
      "_model_module_version": "1.5.0",
      "_model_name": "DescriptionStyleModel",
      "_view_count": null,
      "_view_module": "@jupyter-widgets/base",
      "_view_module_version": "1.2.0",
      "_view_name": "StyleView",
      "description_width": ""
     }
    },
    "46066bea204a4bbe830528b5de0c8372": {
     "model_module": "@jupyter-widgets/controls",
     "model_name": "HBoxModel",
     "state": {
      "_dom_classes": [],
      "_model_module": "@jupyter-widgets/controls",
      "_model_module_version": "1.5.0",
      "_model_name": "HBoxModel",
      "_view_count": null,
      "_view_module": "@jupyter-widgets/controls",
      "_view_module_version": "1.5.0",
      "_view_name": "HBoxView",
      "box_style": "",
      "children": [
       "IPY_MODEL_ee278e96efb140cd8720739850c7567f",
       "IPY_MODEL_71cb68dc80304efda622d5b0292667fb"
      ],
      "layout": "IPY_MODEL_b05a86270f424627bf697b84cb880d3b"
     }
    },
    "4b03eb022f1d445abdc9cc4379238478": {
     "model_module": "@jupyter-widgets/controls",
     "model_name": "ProgressStyleModel",
     "state": {
      "_model_module": "@jupyter-widgets/controls",
      "_model_module_version": "1.5.0",
      "_model_name": "ProgressStyleModel",
      "_view_count": null,
      "_view_module": "@jupyter-widgets/base",
      "_view_module_version": "1.2.0",
      "_view_name": "StyleView",
      "bar_color": null,
      "description_width": "initial"
     }
    },
    "5a222c004e144a9a89806b32517d1abe": {
     "model_module": "@jupyter-widgets/controls",
     "model_name": "FloatProgressModel",
     "state": {
      "_dom_classes": [],
      "_model_module": "@jupyter-widgets/controls",
      "_model_module_version": "1.5.0",
      "_model_name": "FloatProgressModel",
      "_view_count": null,
      "_view_module": "@jupyter-widgets/controls",
      "_view_module_version": "1.5.0",
      "_view_name": "ProgressView",
      "bar_style": "success",
      "description": "",
      "description_tooltip": null,
      "layout": "IPY_MODEL_a271a8b73de64d328aae4b7f5be56de6",
      "max": 1,
      "min": 0,
      "orientation": "horizontal",
      "style": "IPY_MODEL_be4bf227a70547f8a6718540b82c65a8",
      "value": 1
     }
    },
    "5dca13cc37aa42769c223bb2198592dc": {
     "model_module": "@jupyter-widgets/controls",
     "model_name": "DescriptionStyleModel",
     "state": {
      "_model_module": "@jupyter-widgets/controls",
      "_model_module_version": "1.5.0",
      "_model_name": "DescriptionStyleModel",
      "_view_count": null,
      "_view_module": "@jupyter-widgets/base",
      "_view_module_version": "1.2.0",
      "_view_name": "StyleView",
      "description_width": ""
     }
    },
    "71cb68dc80304efda622d5b0292667fb": {
     "model_module": "@jupyter-widgets/controls",
     "model_name": "HTMLModel",
     "state": {
      "_dom_classes": [],
      "_model_module": "@jupyter-widgets/controls",
      "_model_module_version": "1.5.0",
      "_model_name": "HTMLModel",
      "_view_count": null,
      "_view_module": "@jupyter-widgets/controls",
      "_view_module_version": "1.5.0",
      "_view_name": "HTMLView",
      "description": "",
      "description_tooltip": null,
      "layout": "IPY_MODEL_c538440ed4804e68beebf63eab85c61b",
      "placeholder": "​",
      "style": "IPY_MODEL_fd7f85df549c48b0b243f60fd4cb5b0f",
      "value": " 9920512/? [00:01&lt;00:00, 6982551.05it/s]"
     }
    },
    "72ee481e0e90406baf0bf2722f026b8a": {
     "model_module": "@jupyter-widgets/controls",
     "model_name": "DescriptionStyleModel",
     "state": {
      "_model_module": "@jupyter-widgets/controls",
      "_model_module_version": "1.5.0",
      "_model_name": "DescriptionStyleModel",
      "_view_count": null,
      "_view_module": "@jupyter-widgets/base",
      "_view_module_version": "1.2.0",
      "_view_name": "StyleView",
      "description_width": ""
     }
    },
    "790abeec3d4241c1b4bc1e69086308dc": {
     "model_module": "@jupyter-widgets/base",
     "model_name": "LayoutModel",
     "state": {
      "_model_module": "@jupyter-widgets/base",
      "_model_module_version": "1.2.0",
      "_model_name": "LayoutModel",
      "_view_count": null,
      "_view_module": "@jupyter-widgets/base",
      "_view_module_version": "1.2.0",
      "_view_name": "LayoutView",
      "align_content": null,
      "align_items": null,
      "align_self": null,
      "border": null,
      "bottom": null,
      "display": null,
      "flex": null,
      "flex_flow": null,
      "grid_area": null,
      "grid_auto_columns": null,
      "grid_auto_flow": null,
      "grid_auto_rows": null,
      "grid_column": null,
      "grid_gap": null,
      "grid_row": null,
      "grid_template_areas": null,
      "grid_template_columns": null,
      "grid_template_rows": null,
      "height": null,
      "justify_content": null,
      "justify_items": null,
      "left": null,
      "margin": null,
      "max_height": null,
      "max_width": null,
      "min_height": null,
      "min_width": null,
      "object_fit": null,
      "object_position": null,
      "order": null,
      "overflow": null,
      "overflow_x": null,
      "overflow_y": null,
      "padding": null,
      "right": null,
      "top": null,
      "visibility": null,
      "width": null
     }
    },
    "79522c5c11fd455895f6def40115c1b1": {
     "model_module": "@jupyter-widgets/base",
     "model_name": "LayoutModel",
     "state": {
      "_model_module": "@jupyter-widgets/base",
      "_model_module_version": "1.2.0",
      "_model_name": "LayoutModel",
      "_view_count": null,
      "_view_module": "@jupyter-widgets/base",
      "_view_module_version": "1.2.0",
      "_view_name": "LayoutView",
      "align_content": null,
      "align_items": null,
      "align_self": null,
      "border": null,
      "bottom": null,
      "display": null,
      "flex": null,
      "flex_flow": null,
      "grid_area": null,
      "grid_auto_columns": null,
      "grid_auto_flow": null,
      "grid_auto_rows": null,
      "grid_column": null,
      "grid_gap": null,
      "grid_row": null,
      "grid_template_areas": null,
      "grid_template_columns": null,
      "grid_template_rows": null,
      "height": null,
      "justify_content": null,
      "justify_items": null,
      "left": null,
      "margin": null,
      "max_height": null,
      "max_width": null,
      "min_height": null,
      "min_width": null,
      "object_fit": null,
      "object_position": null,
      "order": null,
      "overflow": null,
      "overflow_x": null,
      "overflow_y": null,
      "padding": null,
      "right": null,
      "top": null,
      "visibility": null,
      "width": null
     }
    },
    "987ffacff90040d5b07a2f462c42ab5f": {
     "model_module": "@jupyter-widgets/base",
     "model_name": "LayoutModel",
     "state": {
      "_model_module": "@jupyter-widgets/base",
      "_model_module_version": "1.2.0",
      "_model_name": "LayoutModel",
      "_view_count": null,
      "_view_module": "@jupyter-widgets/base",
      "_view_module_version": "1.2.0",
      "_view_name": "LayoutView",
      "align_content": null,
      "align_items": null,
      "align_self": null,
      "border": null,
      "bottom": null,
      "display": null,
      "flex": null,
      "flex_flow": null,
      "grid_area": null,
      "grid_auto_columns": null,
      "grid_auto_flow": null,
      "grid_auto_rows": null,
      "grid_column": null,
      "grid_gap": null,
      "grid_row": null,
      "grid_template_areas": null,
      "grid_template_columns": null,
      "grid_template_rows": null,
      "height": null,
      "justify_content": null,
      "justify_items": null,
      "left": null,
      "margin": null,
      "max_height": null,
      "max_width": null,
      "min_height": null,
      "min_width": null,
      "object_fit": null,
      "object_position": null,
      "order": null,
      "overflow": null,
      "overflow_x": null,
      "overflow_y": null,
      "padding": null,
      "right": null,
      "top": null,
      "visibility": null,
      "width": null
     }
    },
    "9967f6c34acb4814b361004d2b75a075": {
     "model_module": "@jupyter-widgets/controls",
     "model_name": "HBoxModel",
     "state": {
      "_dom_classes": [],
      "_model_module": "@jupyter-widgets/controls",
      "_model_module_version": "1.5.0",
      "_model_name": "HBoxModel",
      "_view_count": null,
      "_view_module": "@jupyter-widgets/controls",
      "_view_module_version": "1.5.0",
      "_view_name": "HBoxView",
      "box_style": "",
      "children": [
       "IPY_MODEL_5a222c004e144a9a89806b32517d1abe",
       "IPY_MODEL_c4c370e2d0a04fa082e7747a93294ba8"
      ],
      "layout": "IPY_MODEL_04fa014b4b174774b2051e6e9491fe09"
     }
    },
    "a271a8b73de64d328aae4b7f5be56de6": {
     "model_module": "@jupyter-widgets/base",
     "model_name": "LayoutModel",
     "state": {
      "_model_module": "@jupyter-widgets/base",
      "_model_module_version": "1.2.0",
      "_model_name": "LayoutModel",
      "_view_count": null,
      "_view_module": "@jupyter-widgets/base",
      "_view_module_version": "1.2.0",
      "_view_name": "LayoutView",
      "align_content": null,
      "align_items": null,
      "align_self": null,
      "border": null,
      "bottom": null,
      "display": null,
      "flex": null,
      "flex_flow": null,
      "grid_area": null,
      "grid_auto_columns": null,
      "grid_auto_flow": null,
      "grid_auto_rows": null,
      "grid_column": null,
      "grid_gap": null,
      "grid_row": null,
      "grid_template_areas": null,
      "grid_template_columns": null,
      "grid_template_rows": null,
      "height": null,
      "justify_content": null,
      "justify_items": null,
      "left": null,
      "margin": null,
      "max_height": null,
      "max_width": null,
      "min_height": null,
      "min_width": null,
      "object_fit": null,
      "object_position": null,
      "order": null,
      "overflow": null,
      "overflow_x": null,
      "overflow_y": null,
      "padding": null,
      "right": null,
      "top": null,
      "visibility": null,
      "width": null
     }
    },
    "add6cb57c0f6409ca83c37cc00b50083": {
     "model_module": "@jupyter-widgets/controls",
     "model_name": "FloatProgressModel",
     "state": {
      "_dom_classes": [],
      "_model_module": "@jupyter-widgets/controls",
      "_model_module_version": "1.5.0",
      "_model_name": "FloatProgressModel",
      "_view_count": null,
      "_view_module": "@jupyter-widgets/controls",
      "_view_module_version": "1.5.0",
      "_view_name": "ProgressView",
      "bar_style": "success",
      "description": "",
      "description_tooltip": null,
      "layout": "IPY_MODEL_790abeec3d4241c1b4bc1e69086308dc",
      "max": 1,
      "min": 0,
      "orientation": "horizontal",
      "style": "IPY_MODEL_06a73fae4ed0415b85d31ae2fd7ef4b6",
      "value": 1
     }
    },
    "b05a86270f424627bf697b84cb880d3b": {
     "model_module": "@jupyter-widgets/base",
     "model_name": "LayoutModel",
     "state": {
      "_model_module": "@jupyter-widgets/base",
      "_model_module_version": "1.2.0",
      "_model_name": "LayoutModel",
      "_view_count": null,
      "_view_module": "@jupyter-widgets/base",
      "_view_module_version": "1.2.0",
      "_view_name": "LayoutView",
      "align_content": null,
      "align_items": null,
      "align_self": null,
      "border": null,
      "bottom": null,
      "display": null,
      "flex": null,
      "flex_flow": null,
      "grid_area": null,
      "grid_auto_columns": null,
      "grid_auto_flow": null,
      "grid_auto_rows": null,
      "grid_column": null,
      "grid_gap": null,
      "grid_row": null,
      "grid_template_areas": null,
      "grid_template_columns": null,
      "grid_template_rows": null,
      "height": null,
      "justify_content": null,
      "justify_items": null,
      "left": null,
      "margin": null,
      "max_height": null,
      "max_width": null,
      "min_height": null,
      "min_width": null,
      "object_fit": null,
      "object_position": null,
      "order": null,
      "overflow": null,
      "overflow_x": null,
      "overflow_y": null,
      "padding": null,
      "right": null,
      "top": null,
      "visibility": null,
      "width": null
     }
    },
    "b20301e5279a4c9a8ffb693c16ade0c0": {
     "model_module": "@jupyter-widgets/base",
     "model_name": "LayoutModel",
     "state": {
      "_model_module": "@jupyter-widgets/base",
      "_model_module_version": "1.2.0",
      "_model_name": "LayoutModel",
      "_view_count": null,
      "_view_module": "@jupyter-widgets/base",
      "_view_module_version": "1.2.0",
      "_view_name": "LayoutView",
      "align_content": null,
      "align_items": null,
      "align_self": null,
      "border": null,
      "bottom": null,
      "display": null,
      "flex": null,
      "flex_flow": null,
      "grid_area": null,
      "grid_auto_columns": null,
      "grid_auto_flow": null,
      "grid_auto_rows": null,
      "grid_column": null,
      "grid_gap": null,
      "grid_row": null,
      "grid_template_areas": null,
      "grid_template_columns": null,
      "grid_template_rows": null,
      "height": null,
      "justify_content": null,
      "justify_items": null,
      "left": null,
      "margin": null,
      "max_height": null,
      "max_width": null,
      "min_height": null,
      "min_width": null,
      "object_fit": null,
      "object_position": null,
      "order": null,
      "overflow": null,
      "overflow_x": null,
      "overflow_y": null,
      "padding": null,
      "right": null,
      "top": null,
      "visibility": null,
      "width": null
     }
    },
    "b73c5dbad7e447e182061d48380fd3bf": {
     "model_module": "@jupyter-widgets/controls",
     "model_name": "HBoxModel",
     "state": {
      "_dom_classes": [],
      "_model_module": "@jupyter-widgets/controls",
      "_model_module_version": "1.5.0",
      "_model_name": "HBoxModel",
      "_view_count": null,
      "_view_module": "@jupyter-widgets/controls",
      "_view_module_version": "1.5.0",
      "_view_name": "HBoxView",
      "box_style": "",
      "children": [
       "IPY_MODEL_add6cb57c0f6409ca83c37cc00b50083",
       "IPY_MODEL_ba32e53d6f5d44d2b7721f14a7737e9e"
      ],
      "layout": "IPY_MODEL_35c84a4ed1ba4870b1336e006c33e767"
     }
    },
    "ba32e53d6f5d44d2b7721f14a7737e9e": {
     "model_module": "@jupyter-widgets/controls",
     "model_name": "HTMLModel",
     "state": {
      "_dom_classes": [],
      "_model_module": "@jupyter-widgets/controls",
      "_model_module_version": "1.5.0",
      "_model_name": "HTMLModel",
      "_view_count": null,
      "_view_module": "@jupyter-widgets/controls",
      "_view_module_version": "1.5.0",
      "_view_name": "HTMLView",
      "description": "",
      "description_tooltip": null,
      "layout": "IPY_MODEL_156b1c5c87534d6a97220dc9177a59df",
      "placeholder": "​",
      "style": "IPY_MODEL_5dca13cc37aa42769c223bb2198592dc",
      "value": " 8192/? [00:00&lt;00:00, 41531.73it/s]"
     }
    },
    "be4bf227a70547f8a6718540b82c65a8": {
     "model_module": "@jupyter-widgets/controls",
     "model_name": "ProgressStyleModel",
     "state": {
      "_model_module": "@jupyter-widgets/controls",
      "_model_module_version": "1.5.0",
      "_model_name": "ProgressStyleModel",
      "_view_count": null,
      "_view_module": "@jupyter-widgets/base",
      "_view_module_version": "1.2.0",
      "_view_name": "StyleView",
      "bar_color": null,
      "description_width": "initial"
     }
    },
    "c4391ac0090443e4824d2d147ae94448": {
     "model_module": "@jupyter-widgets/controls",
     "model_name": "HBoxModel",
     "state": {
      "_dom_classes": [],
      "_model_module": "@jupyter-widgets/controls",
      "_model_module_version": "1.5.0",
      "_model_name": "HBoxModel",
      "_view_count": null,
      "_view_module": "@jupyter-widgets/controls",
      "_view_module_version": "1.5.0",
      "_view_name": "HBoxView",
      "box_style": "",
      "children": [
       "IPY_MODEL_08dddba55de24a49bf9c84f2cedbba00",
       "IPY_MODEL_090474d95f1d48d3aecc44f785c57ca2"
      ],
      "layout": "IPY_MODEL_987ffacff90040d5b07a2f462c42ab5f"
     }
    },
    "c4c370e2d0a04fa082e7747a93294ba8": {
     "model_module": "@jupyter-widgets/controls",
     "model_name": "HTMLModel",
     "state": {
      "_dom_classes": [],
      "_model_module": "@jupyter-widgets/controls",
      "_model_module_version": "1.5.0",
      "_model_name": "HTMLModel",
      "_view_count": null,
      "_view_module": "@jupyter-widgets/controls",
      "_view_module_version": "1.5.0",
      "_view_name": "HTMLView",
      "description": "",
      "description_tooltip": null,
      "layout": "IPY_MODEL_b20301e5279a4c9a8ffb693c16ade0c0",
      "placeholder": "​",
      "style": "IPY_MODEL_3d9642bfafc541a88affbf65e89700fd",
      "value": " 32768/? [00:00&lt;00:00, 48785.22it/s]"
     }
    },
    "c538440ed4804e68beebf63eab85c61b": {
     "model_module": "@jupyter-widgets/base",
     "model_name": "LayoutModel",
     "state": {
      "_model_module": "@jupyter-widgets/base",
      "_model_module_version": "1.2.0",
      "_model_name": "LayoutModel",
      "_view_count": null,
      "_view_module": "@jupyter-widgets/base",
      "_view_module_version": "1.2.0",
      "_view_name": "LayoutView",
      "align_content": null,
      "align_items": null,
      "align_self": null,
      "border": null,
      "bottom": null,
      "display": null,
      "flex": null,
      "flex_flow": null,
      "grid_area": null,
      "grid_auto_columns": null,
      "grid_auto_flow": null,
      "grid_auto_rows": null,
      "grid_column": null,
      "grid_gap": null,
      "grid_row": null,
      "grid_template_areas": null,
      "grid_template_columns": null,
      "grid_template_rows": null,
      "height": null,
      "justify_content": null,
      "justify_items": null,
      "left": null,
      "margin": null,
      "max_height": null,
      "max_width": null,
      "min_height": null,
      "min_width": null,
      "object_fit": null,
      "object_position": null,
      "order": null,
      "overflow": null,
      "overflow_x": null,
      "overflow_y": null,
      "padding": null,
      "right": null,
      "top": null,
      "visibility": null,
      "width": null
     }
    },
    "c94ce7e9c3bc4bc7b25c4ce3861987df": {
     "model_module": "@jupyter-widgets/base",
     "model_name": "LayoutModel",
     "state": {
      "_model_module": "@jupyter-widgets/base",
      "_model_module_version": "1.2.0",
      "_model_name": "LayoutModel",
      "_view_count": null,
      "_view_module": "@jupyter-widgets/base",
      "_view_module_version": "1.2.0",
      "_view_name": "LayoutView",
      "align_content": null,
      "align_items": null,
      "align_self": null,
      "border": null,
      "bottom": null,
      "display": null,
      "flex": null,
      "flex_flow": null,
      "grid_area": null,
      "grid_auto_columns": null,
      "grid_auto_flow": null,
      "grid_auto_rows": null,
      "grid_column": null,
      "grid_gap": null,
      "grid_row": null,
      "grid_template_areas": null,
      "grid_template_columns": null,
      "grid_template_rows": null,
      "height": null,
      "justify_content": null,
      "justify_items": null,
      "left": null,
      "margin": null,
      "max_height": null,
      "max_width": null,
      "min_height": null,
      "min_width": null,
      "object_fit": null,
      "object_position": null,
      "order": null,
      "overflow": null,
      "overflow_x": null,
      "overflow_y": null,
      "padding": null,
      "right": null,
      "top": null,
      "visibility": null,
      "width": null
     }
    },
    "ee278e96efb140cd8720739850c7567f": {
     "model_module": "@jupyter-widgets/controls",
     "model_name": "FloatProgressModel",
     "state": {
      "_dom_classes": [],
      "_model_module": "@jupyter-widgets/controls",
      "_model_module_version": "1.5.0",
      "_model_name": "FloatProgressModel",
      "_view_count": null,
      "_view_module": "@jupyter-widgets/controls",
      "_view_module_version": "1.5.0",
      "_view_name": "ProgressView",
      "bar_style": "success",
      "description": "",
      "description_tooltip": null,
      "layout": "IPY_MODEL_c94ce7e9c3bc4bc7b25c4ce3861987df",
      "max": 1,
      "min": 0,
      "orientation": "horizontal",
      "style": "IPY_MODEL_3b9265b3099846aabd75858c3bb5f5df",
      "value": 1
     }
    },
    "f4b73c98de9349a09b2275cf2f1ad005": {
     "model_module": "@jupyter-widgets/base",
     "model_name": "LayoutModel",
     "state": {
      "_model_module": "@jupyter-widgets/base",
      "_model_module_version": "1.2.0",
      "_model_name": "LayoutModel",
      "_view_count": null,
      "_view_module": "@jupyter-widgets/base",
      "_view_module_version": "1.2.0",
      "_view_name": "LayoutView",
      "align_content": null,
      "align_items": null,
      "align_self": null,
      "border": null,
      "bottom": null,
      "display": null,
      "flex": null,
      "flex_flow": null,
      "grid_area": null,
      "grid_auto_columns": null,
      "grid_auto_flow": null,
      "grid_auto_rows": null,
      "grid_column": null,
      "grid_gap": null,
      "grid_row": null,
      "grid_template_areas": null,
      "grid_template_columns": null,
      "grid_template_rows": null,
      "height": null,
      "justify_content": null,
      "justify_items": null,
      "left": null,
      "margin": null,
      "max_height": null,
      "max_width": null,
      "min_height": null,
      "min_width": null,
      "object_fit": null,
      "object_position": null,
      "order": null,
      "overflow": null,
      "overflow_x": null,
      "overflow_y": null,
      "padding": null,
      "right": null,
      "top": null,
      "visibility": null,
      "width": null
     }
    },
    "fd7f85df549c48b0b243f60fd4cb5b0f": {
     "model_module": "@jupyter-widgets/controls",
     "model_name": "DescriptionStyleModel",
     "state": {
      "_model_module": "@jupyter-widgets/controls",
      "_model_module_version": "1.5.0",
      "_model_name": "DescriptionStyleModel",
      "_view_count": null,
      "_view_module": "@jupyter-widgets/base",
      "_view_module_version": "1.2.0",
      "_view_name": "StyleView",
      "description_width": ""
     }
    }
   }
  }
 },
 "nbformat": 4,
 "nbformat_minor": 4
}
